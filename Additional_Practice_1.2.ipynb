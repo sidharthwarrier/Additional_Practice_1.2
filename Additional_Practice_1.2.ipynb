{
 "cells": [
  {
   "cell_type": "markdown",
   "metadata": {},
   "source": [
    "# Additional_Practice_1.2"
   ]
  },
  {
   "cell_type": "markdown",
   "metadata": {},
   "source": [
    "1) Write a python program to print from 1 to 6 except 3 and 6"
   ]
  },
  {
   "cell_type": "code",
   "execution_count": 4,
   "metadata": {},
   "outputs": [
    {
     "name": "stdout",
     "output_type": "stream",
     "text": [
      "1 2 4 5 "
     ]
    }
   ],
   "source": [
    "#Iterate over numbers from 1 to 6 using for loop and range\n",
    "for i in range(1,7):\n",
    "#Check for i when it is 3 or 6 and if so continue without any action\n",
    "    if(i==3 or i==6):\n",
    "        \n",
    "        continue\n",
    "#Print the numbers except 1 and 6        \n",
    "    print(i,end=\" \")"
   ]
  },
  {
   "cell_type": "markdown",
   "metadata": {},
   "source": [
    "2) Write a Python program to construct the following pattern, using a nested\n",
    "for loop.\n",
    "\n",
    "<p>&ast;&nbsp;</p> \n",
    "<p>&ast;&nbsp; &ast;</p>\n",
    "<p>&ast;&nbsp; &ast;&nbsp; &ast;</p> \n",
    "<p>&ast;&nbsp; &ast; &nbsp;&ast;&nbsp; &ast;</p>\n",
    "<p>&ast;&nbsp; &ast;&nbsp; &ast; &nbsp;&ast;&nbsp; &ast;</p>\n",
    "<p>&ast;&nbsp; &ast;&nbsp; &ast; &nbsp;&ast;</p>\n",
    "<p>&ast;&nbsp; &ast; &nbsp;&ast;</p>\n",
    "<p>&ast; &nbsp;&ast;</p>\n",
    "<p>&ast;</p>"
   ]
  },
  {
   "cell_type": "code",
   "execution_count": 54,
   "metadata": {},
   "outputs": [
    {
     "name": "stdout",
     "output_type": "stream",
     "text": [
      "* \n",
      "\n",
      "* * \n",
      "\n",
      "* * * \n",
      "\n",
      "* * * * \n",
      "\n",
      "* * * * * \n",
      "\n",
      "* * * * \n",
      "\n",
      "* * * \n",
      "\n",
      "* * \n",
      "\n",
      "* \n",
      "\n"
     ]
    }
   ],
   "source": [
    "# Initialize n to the maximum number of stars\n",
    "n=5\n",
    "# Iterate over range(n)\n",
    "for i in range(0,n):\n",
    "#Iterate over range(i)\n",
    "    for j in range(0 , i+1):\n",
    "#print * , use end to get no white spaces in between the stars\n",
    "        print ('* ',end=\"\")\n",
    "    print ('\\n')\n",
    "    \n",
    "#Backward iteration\n",
    "for i in range(n-1,0,-1):\n",
    "#iterate over range(i)    \n",
    "    for j in range(i):\n",
    "        print('* ',end=\"\")\n",
    "    print('\\n')  \n",
    "\n",
    "     "
   ]
  },
  {
   "cell_type": "markdown",
   "metadata": {},
   "source": [
    "<p>3) Write a python program to print the sum of the first 10 numbers (1 to 10)\n",
    "using while loop</p>\n",
    " <p>Expected Output:</p>\n",
    " <p>The sum of the first 10 integers: 55</p>"
   ]
  },
  {
   "cell_type": "code",
   "execution_count": 39,
   "metadata": {},
   "outputs": [
    {
     "name": "stdout",
     "output_type": "stream",
     "text": [
      "The sum of the first 10 integers:55 \n"
     ]
    }
   ],
   "source": [
    "#Initiaise variables\n",
    "sum=0\n",
    "num=0\n",
    "#While loop to check for 10 numbers\n",
    "while(num <11):\n",
    "#Adding num to sum to get the required output    \n",
    "    sum=sum+num\n",
    "#incrimenting i one by one    \n",
    "    num=num+1\n",
    "#Print the result    \n",
    "print(\"The sum of the first 10 integers:{} \".format(sum))    \n",
    "\n"
   ]
  },
  {
   "cell_type": "markdown",
   "metadata": {},
   "source": [
    "4) <p>Use break statement to terminate the while loop without completing all\n",
    "the iterations. The program control goes outside the while and the next print\n",
    "statement is executed. Q. Repeat the while using “break” and print the sum\n",
    "of the first 10 integers</p>\n",
    " <p>Expected Output:</p>\n",
    " <p>The sum of the first 10 integers is: 55</p>"
   ]
  },
  {
   "cell_type": "code",
   "execution_count": 43,
   "metadata": {},
   "outputs": [
    {
     "name": "stdout",
     "output_type": "stream",
     "text": [
      "The sum of the first 10 integers:55 \n"
     ]
    }
   ],
   "source": [
    "#Initiaise variables\n",
    "sum=0\n",
    "num=0\n",
    "#Calculate the sum\n",
    "while(True):\n",
    "#break when num is 11    \n",
    "    if (num == 11):\n",
    "        break\n",
    "    sum+=num\n",
    "    num+=1\n",
    "#Print the result    \n",
    "print(\"The sum of the first 10 integers:{} \".format(sum)) \n",
    "\n",
    "\n",
    "\n"
   ]
  },
  {
   "cell_type": "markdown",
   "metadata": {},
   "source": [
    "5) Print the whether the number is positive or negative"
   ]
  },
  {
   "cell_type": "code",
   "execution_count": 49,
   "metadata": {},
   "outputs": [
    {
     "name": "stdout",
     "output_type": "stream",
     "text": [
      "Enter the number you want to check :-1\n",
      "Number -1 is negative\n"
     ]
    }
   ],
   "source": [
    "#Take input from user\n",
    "num=input('Enter the number you want to check :')\n",
    "\n",
    "#chack and print whether the number is negative or positive\n",
    "if (int(num) > 0):\n",
    "    print(\"Number {} is positive\".format(num))\n",
    "elif (int(num) < 0):\n",
    "    print(\"Number {} is negative\".format(num))\n",
    "else:\n",
    "    print(\"You have entered 0\")"
   ]
  },
  {
   "cell_type": "code",
   "execution_count": null,
   "metadata": {},
   "outputs": [],
   "source": []
  }
 ],
 "metadata": {
  "kernelspec": {
   "display_name": "Python 3",
   "language": "python",
   "name": "python3"
  },
  "language_info": {
   "codemirror_mode": {
    "name": "ipython",
    "version": 3
   },
   "file_extension": ".py",
   "mimetype": "text/x-python",
   "name": "python",
   "nbconvert_exporter": "python",
   "pygments_lexer": "ipython3",
   "version": "3.6.5"
  }
 },
 "nbformat": 4,
 "nbformat_minor": 2
}
